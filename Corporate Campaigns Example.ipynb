{
 "cells": [
  {
   "cell_type": "markdown",
   "metadata": {},
   "source": [
    "This is an simplified version of Saulius Simcikas's [model](https://forum.effectivealtruism.org/posts/L5EZjjXKdNgcm253H/corporate-campaigns-affect-9-to-120-years-of-chicken-life) of the cost effectiveness of corportate campaigning.\n",
    "\n",
    "In this example model, the total-cost input is drawn from Salius's guesstimate distribution.  This model only covers egg-laying hens, while Salius's also adresses broiler's chickens."
   ]
  },
  {
   "cell_type": "code",
   "execution_count": 22,
   "metadata": {
    "ExecuteTime": {
     "end_time": "2019-07-25T09:39:27.038741Z",
     "start_time": "2019-07-25T09:39:26.123741Z"
    }
   },
   "outputs": [],
   "source": [
    "import numpy as np\n",
    "import matplotlib.pyplot as plt\n",
    "\n",
    "# This is our module\n",
    "import simulator as sim"
   ]
  },
  {
   "cell_type": "code",
   "execution_count": 23,
   "metadata": {},
   "outputs": [
    {
     "data": {
      "text/plain": [
       "<module 'simulator' from '/Users/nix/guesstimate-python/simulator.py'>"
      ]
     },
     "execution_count": 23,
     "metadata": {},
     "output_type": "execute_result"
    }
   ],
   "source": [
    "import importlib\n",
    "importlib.reload(sim)"
   ]
  },
  {
   "cell_type": "markdown",
   "metadata": {},
   "source": [
    "First we define the model, _M_.\n",
    "\n",
    "Currently, a normal input distributions can be created by either by `simulator.Parameter.normal(mean, std)` or by `simulator.Parameter.normal_from_range(low, high)` for a subjective confidence interval.  These distributions can then be combined through use of normal python operators `+, -, *, \\`.  There is currently no support anything except these basic operations and (log)normal distributions."
   ]
  },
  {
   "cell_type": "code",
   "execution_count": 24,
   "metadata": {
    "ExecuteTime": {
     "end_time": "2019-07-25T09:42:24.970296Z",
     "start_time": "2019-07-25T09:42:24.895282Z"
    }
   },
   "outputs": [],
   "source": [
    "M = sim.Model()\n",
    "\n",
    "# The Parameter class, for easy access to creation routines for Parameter objects. \n",
    "P = sim.Parameter\n",
    "\n",
    "# First we calculate the number of hens that would be affected with 100% commtiment rate\n",
    "us_commitments = P.normal(ci=[210e6, 270e6])\n",
    "us_p_cage_free_anyway = P.lognormal(ci=[.18, .26])\n",
    "us_counterfactual = us_commitments * (1 - us_p_cage_free_anyway)\n",
    "\n",
    "int_commitments = P.lognormal(ci=[100e6, 300e6])\n",
    "int_p_cage_free_anyway = P.normal(ci=[.2, .5])\n",
    "int_counterfactual = int_commitments * (1 - int_p_cage_free_anyway)\n",
    "\n",
    "tot_counterfactual = us_counterfactual + int_counterfactual\n",
    "\n",
    "# We can register the adjustable input parameters alongside engish names/descriptions\n",
    "# This will potentially happen automatically in the future, unsure exactly what makes sense\n",
    "M.add_inputs({\n",
    "    \"us commitments (hens)\": us_commitments,\n",
    "    \"us proportion cage free anyway\": us_p_cage_free_anyway,\n",
    "    \"international commitments (hens)\": int_commitments,\n",
    "    \"international proportion cage free anyway\": int_p_cage_free_anyway\n",
    "})\n",
    "\n",
    "\n",
    "# Total spending is taken by sampling outputs from the guesstimate distribution in order to not\n",
    "# have to replicate the whole calculation.  This is done by copy and pasting samples from\n",
    "# guesstimateinto a file which can then be read by our model.\n",
    "# `P.sample_dist(list)` just randomly samples outcomes from `list`\n",
    "tot_spending = P.sample_dist(np.loadtxt(\"spending samples.txt\"))\n",
    "ideal_per_dollar_per_year = tot_counterfactual / tot_spending\n",
    "\n",
    "us_follow_through = P.lognormal(ci=[.33, .85])\n",
    "int_follow_through = P.normal(ci=[.63, .9])\n",
    "\n",
    "# The follow through rate (a weighted average of us and internation follow through)\n",
    "follow_through = (us_follow_through*us_counterfactual + \\\n",
    "    int_follow_through* int_counterfactual) / tot_counterfactual\n",
    "\n",
    "hens_per_year_per_dollar = follow_through * ideal_per_dollar_per_year\n",
    "years_of_impact = P.lognormal(ci=[4, 36])\n",
    "\n",
    "# Our final output\n",
    "hen_years_per_dollar = hens_per_year_per_dollar * years_of_impact\n",
    "\n",
    "M.add_inputs({\n",
    "    \"total spending\": tot_spending,\n",
    "    \"us follow through\": us_follow_through,\n",
    "    \"international follow through\": int_follow_through,\n",
    "    \"years of impact\": years_of_impact\n",
    "})\n",
    "M.add_params({\n",
    "    \"US counterfactual\": us_counterfactual,\n",
    "    \"Interational counterfactual\": int_counterfactual,\n",
    "    \"Total counterfactual\": tot_counterfactual,\n",
    "    \"Follow through\": follow_through,\n",
    "    \"Hens per year, per dollar\": hens_per_year_per_dollar,\n",
    "    \"Hen years affected per dollar\": hen_years_per_dollar\n",
    "})"
   ]
  },
  {
   "cell_type": "code",
   "execution_count": 25,
   "metadata": {},
   "outputs": [
    {
     "name": "stdout",
     "output_type": "stream",
     "text": [
      "- Hen years affected per dollar\n",
      "\t- Hens per year, per dollar\n",
      "\t\t- Follow through\n",
      "\t\t\t- us follow through\n",
      "\t\t\t- US counterfactual\n",
      "\t\t\t\t- us commitments (hens)\n",
      "\t\t\t\t- us proportion cage free anyway\n",
      "\t\t\t- international follow through\n",
      "\t\t\t- Interational counterfactual\n",
      "\t\t\t\t- international commitments (hens)\n",
      "\t\t\t\t- international proportion cage free anyway\n",
      "\t\t\t- Total counterfactual\n",
      "\t\t\t\t- US counterfactual\n",
      "\t\t\t\t\t- us commitments (hens)\n",
      "\t\t\t\t\t- us proportion cage free anyway\n",
      "\t\t\t\t- Interational counterfactual\n",
      "\t\t\t\t\t- international commitments (hens)\n",
      "\t\t\t\t\t- international proportion cage free anyway\n",
      "\t\t- Total counterfactual\n",
      "\t\t\t- US counterfactual\n",
      "\t\t\t\t- us commitments (hens)\n",
      "\t\t\t\t- us proportion cage free anyway\n",
      "\t\t\t- Interational counterfactual\n",
      "\t\t\t\t- international commitments (hens)\n",
      "\t\t\t\t- international proportion cage free anyway\n",
      "\t\t- total spending\n",
      "\t- years of impact\n"
     ]
    }
   ],
   "source": [
    "def print_parents(param, prefix=\"- \"):\n",
    "    if param.name is not None:\n",
    "        print(prefix + param.name)\n",
    "    for parent in param.parents:\n",
    "        if parent.name is None:\n",
    "            print_parents(parent, prefix)\n",
    "        else:\n",
    "            print_parents(parent, '\\t' + prefix)\n",
    "        \n",
    "print_parents(hen_years_per_dollar)"
   ]
  },
  {
   "cell_type": "markdown",
   "metadata": {},
   "source": [
    "Now that we've created the model we can graph the sampled results for parameters of interest:"
   ]
  },
  {
   "cell_type": "code",
   "execution_count": 26,
   "metadata": {
    "ExecuteTime": {
     "end_time": "2019-07-25T09:39:27.781840Z",
     "start_time": "2019-07-25T09:39:27.093527Z"
    }
   },
   "outputs": [
    {
     "name": "stdout",
     "output_type": "stream",
     "text": [
      "5th:  5.52\n",
      "mean: 50.10\n",
      "95th: 159.77\n",
      "\n",
      "std: 70.2719\n",
      "\n"
     ]
    },
    {
     "data": {
      "image/png": "[encoded data removed]",
      "text/plain": [
       "<Figure size 432x288 with 1 Axes>"
      ]
     },
     "metadata": {
      "needs_background": "light"
     },
     "output_type": "display_data"
    }
   ],
   "source": [
    "hen_years_per_dollar.print_summary();"
   ]
  },
  {
   "cell_type": "markdown",
   "metadata": {},
   "source": [
    "We can also graph the correlations between one variable and all the input distributions.  Note this uses the english names that we registered the input variables with!"
   ]
  },
  {
   "cell_type": "code",
   "execution_count": 27,
   "metadata": {
    "ExecuteTime": {
     "end_time": "2019-07-25T09:39:27.908310Z",
     "start_time": "2019-07-25T09:39:27.785773Z"
    }
   },
   "outputs": [
    {
     "name": "stdout",
     "output_type": "stream",
     "text": [
      "Input                                         r^2\n",
      "-----------------------------------------  ------\n",
      "years of impact                            0.5763\n",
      "us follow through                          0.0509\n",
      "international commitments (hens)           0.0423\n",
      "total spending                             0.0276\n",
      "us proportion cage free anyway             0.0028\n",
      "international proportion cage free anyway  0.0019\n",
      "us commitments (hens)                      0.0013\n",
      "international follow through               0.0011\n"
     ]
    }
   ],
   "source": [
    "M.input_r2s(hen_years_per_dollar);"
   ]
  },
  {
   "cell_type": "markdown",
   "metadata": {},
   "source": [
    "Or look at scatterplots for the correlations between two variables:"
   ]
  },
  {
   "cell_type": "code",
   "execution_count": 28,
   "metadata": {
    "ExecuteTime": {
     "end_time": "2019-07-25T09:39:28.320581Z",
     "start_time": "2019-07-25T09:39:27.910988Z"
    }
   },
   "outputs": [
    {
     "name": "stdout",
     "output_type": "stream",
     "text": [
      "slope: 3.0764573540161693\n",
      "intercept: -1.739280054317554\n",
      "r^2: 0.576270322712236\n"
     ]
    },
    {
     "data": {
      "image/png": "[encoded data removed]",
      "text/plain": [
       "<Figure size 432x288 with 1 Axes>"
      ]
     },
     "metadata": {
      "needs_background": "light"
     },
     "output_type": "display_data"
    }
   ],
   "source": [
    "M.sensitivity(years_of_impact, hen_years_per_dollar)"
   ]
  },
  {
   "cell_type": "markdown",
   "metadata": {},
   "source": [
    "Or create a graph comparing the outcome for the lowest 10% of sampled inputs for total spending (blue) to the highest 10% (orange)."
   ]
  },
  {
   "cell_type": "code",
   "execution_count": 29,
   "metadata": {
    "ExecuteTime": {
     "end_time": "2019-07-25T09:39:28.949962Z",
     "start_time": "2019-07-25T09:39:28.323912Z"
    }
   },
   "outputs": [
    {
     "data": {
      "image/png": "[encoded data removed]",
      "text/plain": [
       "<Figure size 432x288 with 1 Axes>"
      ]
     },
     "metadata": {
      "needs_background": "light"
     },
     "output_type": "display_data"
    }
   ],
   "source": [
    "M.sensitivty_comparisons(tot_spending, hen_years_per_dollar)"
   ]
  }
 ],
 "metadata": {
  "hide_input": false,
  "kernelspec": {
   "display_name": "Python 3",
   "language": "python",
   "name": "python3"
  },
  "language_info": {
   "codemirror_mode": {
    "name": "ipython",
    "version": 3
   },
   "file_extension": ".py",
   "mimetype": "text/x-python",
   "name": "python",
   "nbconvert_exporter": "python",
   "pygments_lexer": "ipython3",
   "version": "3.7.0"
  }
 },
 "nbformat": 4,
 "nbformat_minor": 4
}
